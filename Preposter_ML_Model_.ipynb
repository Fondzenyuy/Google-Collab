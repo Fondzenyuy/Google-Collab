{
  "nbformat": 4,
  "nbformat_minor": 0,
  "metadata": {
    "colab": {
      "name": "Preposter - ML Model .ipynb",
      "provenance": [],
      "machine_shape": "hm",
      "collapsed_sections": [],
      "authorship_tag": "ABX9TyO0Ltq0LdmVkqLi0osYqRkH",
      "include_colab_link": true
    },
    "kernelspec": {
      "name": "python3",
      "display_name": "Python 3"
    },
    "language_info": {
      "name": "python"
    },
    "accelerator": "GPU",
    "gpuClass": "standard"
  },
  "cells": [
    {
      "cell_type": "markdown",
      "metadata": {
        "id": "view-in-github",
        "colab_type": "text"
      },
      "source": [
        "<a href=\"https://colab.research.google.com/github/Fondzenyuy/Google-Collab/blob/main/Preposter_ML_Model_.ipynb\" target=\"_parent\"><img src=\"https://colab.research.google.com/assets/colab-badge.svg\" alt=\"Open In Colab\"/></a>"
      ]
    },
    {
      "cell_type": "markdown",
      "source": [
        "# Hyperparameters : Optuna (see Notebook)"
      ],
      "metadata": {
        "id": "n2HAitiuRgOb"
      }
    },
    {
      "cell_type": "markdown",
      "source": [
        "# Loading Data&Inputs"
      ],
      "metadata": {
        "id": "8xPajlkVKrIo"
      }
    },
    {
      "cell_type": "code",
      "source": [
        "# Hyperparameters\n",
        "\n",
        "learning_rate = 0.001\n",
        "batch_size = 64\n",
        "num_epochs = 1200"
      ],
      "metadata": {
        "id": "PLlICkujEeDh"
      },
      "execution_count": 6,
      "outputs": []
    },
    {
      "cell_type": "code",
      "source": [
        "import sys, os, time\n",
        "import matplotlib.pyplot as plt\n",
        "import numpy as np\n",
        "#import optuna\n",
        "#from optuna.trial import TrialState\n",
        "import torch\n",
        "import torchvision # torch package for vision related things\n",
        "import torch.nn.functional as F  # Parameterless functions, like (some) activation functions\n",
        "import torchvision.datasets as datasets  # Standard datasets\n",
        "import torchvision.transforms as transforms  # Transformations we can perform on our dataset for augmentation\n",
        "from torch import optim  # For optimizers like SGD, Adam, etc.\n",
        "from torch import nn  # All neural network modules\n",
        "from torch.utils.data import DataLoader  # Gives easier dataset managment by creating mini batches etc.\n",
        "from tqdm import tqdm  # For nice progress bar!\n",
        "from torch.utils.data import Dataset, DataLoader\n",
        "torch.manual_seed(0)"
      ],
      "metadata": {
        "id": "aGhezyrnidkv",
        "colab": {
          "base_uri": "https://localhost:8080/"
        },
        "outputId": "6c630646-571d-40f3-f54d-358eec654e27"
      },
      "execution_count": 7,
      "outputs": [
        {
          "output_type": "execute_result",
          "data": {
            "text/plain": [
              "<torch._C.Generator at 0x7fcfaf702c10>"
            ]
          },
          "metadata": {},
          "execution_count": 7
        }
      ]
    },
    {
      "cell_type": "code",
      "source": [
        "gpu_info = !nvidia-smi\n",
        "gpu_info = '\\n'.join(gpu_info)\n",
        "if gpu_info.find('failed') >= 0:\n",
        "  print('Not connected to a GPU')\n",
        "else:\n",
        "  print(gpu_info)"
      ],
      "metadata": {
        "colab": {
          "base_uri": "https://localhost:8080/"
        },
        "id": "NGMf1Cy9Ky60",
        "outputId": "b53de374-7e34-47aa-99f9-e1faac7de56a"
      },
      "execution_count": 8,
      "outputs": [
        {
          "output_type": "stream",
          "name": "stdout",
          "text": [
            "Mon Aug  1 14:14:19 2022       \n",
            "+-----------------------------------------------------------------------------+\n",
            "| NVIDIA-SMI 460.32.03    Driver Version: 460.32.03    CUDA Version: 11.2     |\n",
            "|-------------------------------+----------------------+----------------------+\n",
            "| GPU  Name        Persistence-M| Bus-Id        Disp.A | Volatile Uncorr. ECC |\n",
            "| Fan  Temp  Perf  Pwr:Usage/Cap|         Memory-Usage | GPU-Util  Compute M. |\n",
            "|                               |                      |               MIG M. |\n",
            "|===============================+======================+======================|\n",
            "|   0  Tesla P100-PCIE...  Off  | 00000000:00:04.0 Off |                    0 |\n",
            "| N/A   40C    P0    29W / 250W |      2MiB / 16280MiB |      0%      Default |\n",
            "|                               |                      |                  N/A |\n",
            "+-------------------------------+----------------------+----------------------+\n",
            "                                                                               \n",
            "+-----------------------------------------------------------------------------+\n",
            "| Processes:                                                                  |\n",
            "|  GPU   GI   CI        PID   Type   Process name                  GPU Memory |\n",
            "|        ID   ID                                                   Usage      |\n",
            "|=============================================================================|\n",
            "|  No running processes found                                                 |\n",
            "+-----------------------------------------------------------------------------+\n"
          ]
        }
      ]
    },
    {
      "cell_type": "code",
      "source": [
        "use_cuda = torch.cuda.is_available()\n",
        "if use_cuda:\n",
        "    print('__CUDNN VERSION:', torch.backends.cudnn.version())\n",
        "    print('__Number CUDA Devices:', torch.cuda.device_count())\n",
        "    print('__CUDA Device Name:',torch.cuda.get_device_name(0))\n",
        "    print('__CUDA Device Total Memory [GB]:',torch.cuda.get_device_properties(0).total_memory/1e9)"
      ],
      "metadata": {
        "id": "rwKcdzRJKiGR",
        "colab": {
          "base_uri": "https://localhost:8080/"
        },
        "outputId": "a4933fdf-d2ad-469f-aec8-2d997ac7c17b"
      },
      "execution_count": 9,
      "outputs": [
        {
          "output_type": "stream",
          "name": "stdout",
          "text": [
            "__CUDNN VERSION: 8302\n",
            "__Number CUDA Devices: 1\n",
            "__CUDA Device Name: Tesla P100-PCIE-16GB\n",
            "__CUDA Device Total Memory [GB]: 17.071734784\n"
          ]
        }
      ]
    },
    {
      "cell_type": "code",
      "source": [
        "class Data(Dataset):\n",
        "    \n",
        "    # Constructor\n",
        "    def __init__(self, N_SAMPLES = 7000, noise_std=1, train=True):\n",
        "        self.len = N_SAMPLES\n",
        "        self.x = torch.linspace(-1, 1, N_SAMPLES).view(-1, 1)\n",
        "        #self.x = (self.x).to(device)\n",
        "        self.f = (self.x)*torch.sin(20*self.x) - ((self.x)**2)*torch.cos(10*self.x)  #key function in model for outputs\n",
        "        #self.f = (self.f).to(device)\n",
        "        if train != True:\n",
        "            torch.manual_seed(1)\n",
        "            self.y = self.f + noise_std * torch.randn(self.f.size())\n",
        "            self.y = self.y.view(-1, 1)\n",
        "            #self.y = (self.y).to(device)\n",
        "            torch.manual_seed(0)\n",
        "        else:\n",
        "            self.y = self.f + noise_std * torch.randn(self.f.size())\n",
        "            self.y = self.y.view(-1, 1)\n",
        "            #self.y = (self.y).to(device)\n",
        "            \n",
        "    # Getter\n",
        "    def __getitem__(self, index):    \n",
        "        return self.x[index], self.y[index]\n",
        "    \n",
        "    # Get Length\n",
        "    def __len__(self):\n",
        "        return self.len"
      ],
      "metadata": {
        "id": "atqXRdQrKiTx"
      },
      "execution_count": 10,
      "outputs": []
    },
    {
      "cell_type": "code",
      "source": [
        "data_set = Data()"
      ],
      "metadata": {
        "id": "zwFCqc67KiK6"
      },
      "execution_count": 11,
      "outputs": []
    },
    {
      "cell_type": "markdown",
      "source": [
        "# CNN"
      ],
      "metadata": {
        "id": "KoCKdb8dNM7f"
      }
    },
    {
      "cell_type": "code",
      "source": [
        "# Simple CNN\n",
        "class Net(nn.Module):\n",
        "    # Constructor\n",
        "    def __init__(self, in_size, n_hidden, out_size, p=0):\n",
        "      super(Net, self).__init__()\n",
        "      self.drop = nn.Dropout(p=p)\n",
        "      self.linear1 = nn.Linear(in_size, n_hidden)\n",
        "      self.linear2 = nn.Linear(n_hidden, n_hidden)\n",
        "      self.linear3 = nn.Linear(n_hidden, out_size)\n",
        "        \n",
        "    def forward(self, x):\n",
        "\n",
        "      # x = F.relu(self.drop(self.linear1(x))).to(device)\n",
        "      \n",
        "      x = self.linear1(x)\n",
        "      x = self.drop(x)\n",
        "      x = F.relu(x)\n",
        "\n",
        "      x = F.relu(self.drop(self.linear2(x)))\n",
        "      x = self.linear3(x)\n",
        "      return x"
      ],
      "metadata": {
        "id": "fdGovJsyKiWI"
      },
      "execution_count": 12,
      "outputs": []
    },
    {
      "cell_type": "code",
      "source": [
        "# Set device\n",
        "device = torch.device(\"cuda\" if torch.cuda.is_available() else \"cpu\")\n",
        "device"
      ],
      "metadata": {
        "id": "ISFPQkU2LFNa",
        "colab": {
          "base_uri": "https://localhost:8080/"
        },
        "outputId": "6e43940f-fbd1-4789-9875-a55843fc396b"
      },
      "execution_count": 13,
      "outputs": [
        {
          "output_type": "execute_result",
          "data": {
            "text/plain": [
              "device(type='cuda')"
            ]
          },
          "metadata": {},
          "execution_count": 13
        }
      ]
    },
    {
      "cell_type": "code",
      "source": [
        ""
      ],
      "metadata": {
        "id": "xg_M-Fd1LFPb"
      },
      "execution_count": 13,
      "outputs": []
    },
    {
      "cell_type": "code",
      "source": [
        ""
      ],
      "metadata": {
        "id": "9hXrpZA9LFRz"
      },
      "execution_count": 13,
      "outputs": []
    },
    {
      "cell_type": "markdown",
      "source": [
        "# Pre-training: Loaders & Model Setup"
      ],
      "metadata": {
        "id": "V9gENmoANqXD"
      }
    },
    {
      "cell_type": "code",
      "source": [
        "\n",
        "train_loader = DataLoader(data_set, shuffle= True, batch_size = batch_size)\n",
        "validation_set = Data(train=False)\n",
        "val_xtrain = (validation_set.x).to(device=device)\n",
        "val_ytrain = (validation_set.y).to(device=device)\n",
        "\n"
      ],
      "metadata": {
        "id": "sJkTl85BNc_n"
      },
      "execution_count": 14,
      "outputs": []
    },
    {
      "cell_type": "code",
      "source": [
        "# Initialize network\n",
        "model = Net(1,350,1).to(device)\n",
        "model_drop = Net(1, 350, 1, p=0.5).to(device)\n",
        "model.train()\n",
        "model_drop.train()"
      ],
      "metadata": {
        "colab": {
          "base_uri": "https://localhost:8080/"
        },
        "id": "7YZhG2b4NdCL",
        "outputId": "aa3ced30-84c3-49ad-92e3-ad26a2162ec3"
      },
      "execution_count": 15,
      "outputs": [
        {
          "output_type": "execute_result",
          "data": {
            "text/plain": [
              "Net(\n",
              "  (drop): Dropout(p=0.5, inplace=False)\n",
              "  (linear1): Linear(in_features=1, out_features=350, bias=True)\n",
              "  (linear2): Linear(in_features=350, out_features=350, bias=True)\n",
              "  (linear3): Linear(in_features=350, out_features=1, bias=True)\n",
              ")"
            ]
          },
          "metadata": {},
          "execution_count": 15
        }
      ]
    },
    {
      "cell_type": "code",
      "source": [
        "# Loss and optimizer\n",
        "#criterion = nn.CrossEntropyLoss()\n",
        "#optimizer = optim.Adam(model.parameters(), lr=learning_rate)"
      ],
      "metadata": {
        "id": "HT0sWg5CNdIs"
      },
      "execution_count": 16,
      "outputs": []
    },
    {
      "cell_type": "code",
      "source": [
        "# Set the optimizer and criterion function\n",
        "\n",
        "optimizer_ofit = torch.optim.Adam(model.parameters(), learning_rate)\n",
        "optimizer_drop = torch.optim.Adam(model_drop.parameters(), learning_rate)\n",
        "criterion = torch.nn.MSELoss()"
      ],
      "metadata": {
        "id": "x5G7z-gFp3jk"
      },
      "execution_count": 17,
      "outputs": []
    },
    {
      "cell_type": "code",
      "source": [
        "# Initialize the dict to contain the loss results for model\n",
        "\n",
        "LOSS={}\n",
        "LOSS['training data no dropout']=[]\n",
        "LOSS['validation data no dropout']=[]\n",
        "LOSS['training data dropout']=[]\n",
        "LOSS['validation data dropout']=[]"
      ],
      "metadata": {
        "id": "UDgT_rPep3mZ"
      },
      "execution_count": 18,
      "outputs": []
    },
    {
      "cell_type": "code",
      "source": [
        ""
      ],
      "metadata": {
        "id": "J4sXyiV7p3oh"
      },
      "execution_count": 18,
      "outputs": []
    },
    {
      "cell_type": "markdown",
      "source": [
        "# Training"
      ],
      "metadata": {
        "id": "7vtyudoFqDHZ"
      }
    },
    {
      "cell_type": "code",
      "source": [
        "\n",
        "train_loader = DataLoader(data_set, shuffle= True, batch_size = 64)\n",
        "data = (data_set.x).to(device=device)\n",
        "val_xtrain = (validation_set.x).to(device=device)\n",
        "val_ytrain = (validation_set.y).to(device=device)\n",
        "target = (data_set.y).to(device=device)\n",
        "\n",
        "# Train Network\n",
        "\n",
        "def train_model(num_epochs):\n",
        "  for epoch in range(num_epochs):\n",
        "    for i , (x, y) in enumerate(train_loader):\n",
        "      # Get data to cuda if possible\n",
        "      model.train()\n",
        "      data = (data_set.x).to(device=device)\n",
        "      val_xtrain = (validation_set.x).to(device=device)\n",
        "      val_ytrain = (validation_set.y).to(device=device)\n",
        "      yhat = model(data)\n",
        "      yhat_drop = model_drop(data)\n",
        "\n",
        "      target = (data_set.y).to(device=device)\n",
        "      loss = criterion(yhat,target)\n",
        "      loss_drop = criterion(yhat_drop, target)\n",
        "\n",
        "      #store the loss for  both the training and validation  data for both models \n",
        "      LOSS['training data no dropout'].append(loss.item())\n",
        "      LOSS['validation data no dropout'].append(criterion(model(val_xtrain), val_ytrain).item())\n",
        "      LOSS['training data dropout'].append(loss_drop.item())\n",
        "      model_drop.eval()\n",
        "      LOSS['validation data dropout'].append(criterion(model_drop(val_xtrain), val_ytrain).item())\n",
        "      model_drop.train()\n",
        "      \n",
        "      #backward \n",
        "      optimizer_ofit.zero_grad()\n",
        "      optimizer_drop.zero_grad()\n",
        "      loss.backward()\n",
        "      loss_drop.backward()\n",
        "      optimizer_ofit.step()\n",
        "      optimizer_drop.step()\n",
        "\n",
        "train_model(num_epochs)\n",
        "    \n",
        "    \n",
        "\n",
        "    \n",
        "    \n"
      ],
      "metadata": {
        "id": "E9YgRdHxNdO8"
      },
      "execution_count": 19,
      "outputs": []
    },
    {
      "cell_type": "code",
      "source": [
        "#Set the model with dropout to evaluation mode\n",
        "\n",
        "model_drop.eval()"
      ],
      "metadata": {
        "colab": {
          "base_uri": "https://localhost:8080/"
        },
        "id": "LfVyEKrqTS5L",
        "outputId": "59a4b6c5-8ad9-486e-c523-00f728ef46d9"
      },
      "execution_count": 20,
      "outputs": [
        {
          "output_type": "execute_result",
          "data": {
            "text/plain": [
              "Net(\n",
              "  (drop): Dropout(p=0.5, inplace=False)\n",
              "  (linear1): Linear(in_features=1, out_features=350, bias=True)\n",
              "  (linear2): Linear(in_features=350, out_features=350, bias=True)\n",
              "  (linear3): Linear(in_features=350, out_features=1, bias=True)\n",
              ")"
            ]
          },
          "metadata": {},
          "execution_count": 20
        }
      ]
    },
    {
      "cell_type": "code",
      "source": [
        "# Make the prediction\n",
        "\n",
        "yhat = model(data)\n",
        "yhat_drop = model_drop(data)"
      ],
      "metadata": {
        "id": "ctLig3x5O6GE"
      },
      "execution_count": 21,
      "outputs": []
    },
    {
      "cell_type": "markdown",
      "source": [
        "# Analysis"
      ],
      "metadata": {
        "id": "6-Azn5zWQ0O6"
      }
    },
    {
      "cell_type": "code",
      "source": [
        "#Plot the predictions for both models\n",
        "#plt.figure(figsize=(6.1, 10))\n",
        "from google.colab import files\n",
        "plt.plot(data.to(\"cpu\").numpy(), data_set.f.numpy(),label=\"True function\", color='orange')\n",
        "plt.plot(data.to(\"cpu\").numpy(), yhat_drop.to(\"cpu\").detach().numpy() , label=\"Plot after training data\", c ='g')\n",
        "plt.title('Plot of trained versus true models of a complex trigonometric function')\n",
        "plt.xlabel(\"x\")\n",
        "plt.ylabel(\"y\")\n",
        "plt.xlim((-1, 1))\n",
        "plt.ylim((-2, 2.5))\n",
        "plt.legend(loc = \"best\")\n",
        "plt.show()\n",
        "\n",
        "plt.savefig('Complex function train.png')\n",
        "files.download('Complex function train.png')\n"
      ],
      "metadata": {
        "colab": {
          "base_uri": "https://localhost:8080/",
          "height": 312
        },
        "id": "jMQo8yiFNdRS",
        "outputId": "d8f28de5-7f50-4182-ee34-c204aaab3bae"
      },
      "execution_count": 26,
      "outputs": [
        {
          "output_type": "display_data",
          "data": {
            "text/plain": [
              "<Figure size 432x288 with 1 Axes>"
            ],
            "image/png": "[encoded data removed]"
          },
          "metadata": {
            "needs_background": "light"
          }
        },
        {
          "output_type": "display_data",
          "data": {
            "text/plain": [
              "<IPython.core.display.Javascript object>"
            ],
            "application/javascript": [
              "\n",
              "    async function download(id, filename, size) {\n",
              "      if (!google.colab.kernel.accessAllowed) {\n",
              "        return;\n",
              "      }\n",
              "      const div = document.createElement('div');\n",
              "      const label = document.createElement('label');\n",
              "      label.textContent = `Downloading \"${filename}\": `;\n",
              "      div.appendChild(label);\n",
              "      const progress = document.createElement('progress');\n",
              "      progress.max = size;\n",
              "      div.appendChild(progress);\n",
              "      document.body.appendChild(div);\n",
              "\n",
              "      const buffers = [];\n",
              "      let downloaded = 0;\n",
              "\n",
              "      const channel = await google.colab.kernel.comms.open(id);\n",
              "      // Send a message to notify the kernel that we're ready.\n",
              "      channel.send({})\n",
              "\n",
              "      for await (const message of channel.messages) {\n",
              "        // Send a message to notify the kernel that we're ready.\n",
              "        channel.send({})\n",
              "        if (message.buffers) {\n",
              "          for (const buffer of message.buffers) {\n",
              "            buffers.push(buffer);\n",
              "            downloaded += buffer.byteLength;\n",
              "            progress.value = downloaded;\n",
              "          }\n",
              "        }\n",
              "      }\n",
              "      const blob = new Blob(buffers, {type: 'application/binary'});\n",
              "      const a = document.createElement('a');\n",
              "      a.href = window.URL.createObjectURL(blob);\n",
              "      a.download = filename;\n",
              "      div.appendChild(a);\n",
              "      a.click();\n",
              "      div.remove();\n",
              "    }\n",
              "  "
            ]
          },
          "metadata": {}
        },
        {
          "output_type": "display_data",
          "data": {
            "text/plain": [
              "<IPython.core.display.Javascript object>"
            ],
            "application/javascript": [
              "download(\"download_ba6d14f2-e18e-4021-8212-fb576ee5e880\", \"Complex function train.png\", 1273)"
            ]
          },
          "metadata": {}
        },
        {
          "output_type": "display_data",
          "data": {
            "text/plain": [
              "<Figure size 432x288 with 0 Axes>"
            ]
          },
          "metadata": {}
        }
      ]
    },
    {
      "cell_type": "code",
      "source": [
        "plt.figure(figsize=(6.1, 10))\n",
        "for key, value in LOSS.items():\n",
        "    plt.plot(np.log(np.array(value)), label=key)\n",
        "    plt.legend()\n",
        "    plt.xlabel(\"iterations\")\n",
        "    plt.ylabel(\"Log of cost or total loss\")"
      ],
      "metadata": {
        "id": "unQg8abKLFT3",
        "colab": {
          "base_uri": "https://localhost:8080/",
          "height": 606
        },
        "outputId": "c9de7af2-ab9d-436e-c2b1-a28962a0be92"
      },
      "execution_count": 23,
      "outputs": [
        {
          "output_type": "display_data",
          "data": {
            "text/plain": [
              "<Figure size 439.2x720 with 1 Axes>"
            ],
            "image/png": "[encoded data removed]"
          },
          "metadata": {
            "needs_background": "light"
          }
        }
      ]
    },
    {
      "cell_type": "code",
      "source": [
        ""
      ],
      "metadata": {
        "id": "6WGUDUNHLFV8"
      },
      "execution_count": 23,
      "outputs": []
    },
    {
      "cell_type": "code",
      "source": [
        ""
      ],
      "metadata": {
        "id": "xYeA5bYeLFYB"
      },
      "execution_count": 23,
      "outputs": []
    },
    {
      "cell_type": "code",
      "source": [
        ""
      ],
      "metadata": {
        "id": "0gvnv04CC9tO"
      },
      "execution_count": 23,
      "outputs": []
    }
  ]
}